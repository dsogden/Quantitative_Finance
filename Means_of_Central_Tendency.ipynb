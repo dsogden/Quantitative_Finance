{
  "nbformat": 4,
  "nbformat_minor": 0,
  "metadata": {
    "colab": {
      "provenance": [],
      "authorship_tag": "ABX9TyNEKbmDLkklZrCMj7ZbsRez",
      "include_colab_link": true
    },
    "kernelspec": {
      "name": "python3",
      "display_name": "Python 3"
    },
    "language_info": {
      "name": "python"
    }
  },
  "cells": [
    {
      "cell_type": "markdown",
      "metadata": {
        "id": "view-in-github",
        "colab_type": "text"
      },
      "source": [
        "<a href=\"https://colab.research.google.com/github/dsogden/Quantitative_Finance/blob/main/Means_of_Central_Tendency.ipynb\" target=\"_parent\"><img src=\"https://colab.research.google.com/assets/colab-badge.svg\" alt=\"Open In Colab\"/></a>"
      ]
    },
    {
      "cell_type": "code",
      "execution_count": 1,
      "metadata": {
        "id": "5OwwWJ04fBxV"
      },
      "outputs": [],
      "source": [
        "import scipy.stats as stats\n",
        "import numpy as np"
      ]
    },
    {
      "cell_type": "code",
      "source": [
        "x1 = [1, 2, 2, 3, 4, 5, 5, 7]\n",
        "x2 = x1 + [100]\n",
        "\n",
        "print(f'Mean of x1: {np.mean(x1)}')\n",
        "print(f'Mean of x2: {np.mean(x2):0.4f}')"
      ],
      "metadata": {
        "colab": {
          "base_uri": "https://localhost:8080/"
        },
        "id": "Rkp2YSW_fnJD",
        "outputId": "ae4d2eb5-7388-4c82-e3aa-bb649a834123"
      },
      "execution_count": 3,
      "outputs": [
        {
          "output_type": "stream",
          "name": "stdout",
          "text": [
            "Mean of x1: 3.625\n",
            "Mean of x2: 14.3333\n"
          ]
        }
      ]
    },
    {
      "cell_type": "code",
      "source": [
        "## weighted mean\n",
        "weight = 1 / len(x1)\n",
        "x11 = [x * weight for x in x1]\n",
        "x22 = [x * weight for x in x2]\n",
        "print(f'Weighted mean of x1: {np.mean(x11)}')\n",
        "print(f'Weight mean of x2: {np.mean(x22):0.4f}')"
      ],
      "metadata": {
        "colab": {
          "base_uri": "https://localhost:8080/"
        },
        "id": "kkaEtZfSh-PH",
        "outputId": "6559d3e5-9939-4cc7-aa26-a061e6d47ed6"
      },
      "execution_count": 6,
      "outputs": [
        {
          "output_type": "stream",
          "name": "stdout",
          "text": [
            "Weighted mean of x1: 0.453125\n",
            "Weight mean of x2: 1.7917\n"
          ]
        }
      ]
    },
    {
      "cell_type": "markdown",
      "source": [
        "### Median"
      ],
      "metadata": {
        "id": "-9jun7jvj3Ow"
      }
    },
    {
      "cell_type": "code",
      "source": [
        "print(f'Median of x1: {np.median(x1)}')\n",
        "print(f'Median of x2: {np.median(x2)}')"
      ],
      "metadata": {
        "colab": {
          "base_uri": "https://localhost:8080/"
        },
        "id": "Z2KcU5xRijey",
        "outputId": "a862396f-5ec4-4d5e-9b23-e3781e2366a1"
      },
      "execution_count": 7,
      "outputs": [
        {
          "output_type": "stream",
          "name": "stdout",
          "text": [
            "Median of x1: 3.5\n",
            "Median of x2: 4.0\n"
          ]
        }
      ]
    },
    {
      "cell_type": "markdown",
      "source": [
        "### Mode"
      ],
      "metadata": {
        "id": "Sx-IB8nlkOLk"
      }
    },
    {
      "cell_type": "code",
      "source": [
        "stats.mode(x1)[0]"
      ],
      "metadata": {
        "colab": {
          "base_uri": "https://localhost:8080/"
        },
        "id": "f4b31c_Tj_ti",
        "outputId": "135db75a-7b05-4aab-ef14-7476c3ea3514"
      },
      "execution_count": 11,
      "outputs": [
        {
          "output_type": "execute_result",
          "data": {
            "text/plain": [
              "2"
            ]
          },
          "metadata": {},
          "execution_count": 11
        }
      ]
    },
    {
      "cell_type": "code",
      "source": [
        "def mode(inputs):\n",
        "    counts = {}\n",
        "    for e in inputs:\n",
        "        if e in counts:\n",
        "            counts[e] += 1\n",
        "        else:\n",
        "            counts[e] = 1\n",
        "\n",
        "    max_count = 0\n",
        "    modes = {}\n",
        "    for key, value in counts.items():\n",
        "        if value > max_count:\n",
        "            max_count = value\n",
        "            modes = {key}\n",
        "        elif value == max_count:\n",
        "            modes.add(key)\n",
        "    if max_count > 1 or len(inputs) == 1:\n",
        "        return list(modes)\n",
        "    return 'No mode'\n",
        "\n",
        "print(f'All modes of x1: {mode(x1)}')"
      ],
      "metadata": {
        "colab": {
          "base_uri": "https://localhost:8080/"
        },
        "id": "tumJiRpPkWFj",
        "outputId": "bf112c94-fcb4-4472-8715-61574cf54c3b"
      },
      "execution_count": 12,
      "outputs": [
        {
          "output_type": "stream",
          "name": "stdout",
          "text": [
            "All modes of x1: [2, 5]\n"
          ]
        }
      ]
    },
    {
      "cell_type": "code",
      "source": [
        "import yfinance as yf"
      ],
      "metadata": {
        "id": "-ZafAhv6lgN1"
      },
      "execution_count": 14,
      "outputs": []
    },
    {
      "cell_type": "code",
      "source": [
        "# Get return data for an asset and compute the mode of the dataset\n",
        "start = '2014-01-01'\n",
        "end = '2015-01-01'\n",
        "\n",
        "pricing = yf.download(tickers='SPY', start=start, end=end)\n",
        "pricing"
      ],
      "metadata": {
        "colab": {
          "base_uri": "https://localhost:8080/",
          "height": 473
        },
        "id": "G5hodzIplxy5",
        "outputId": "8d6bce8c-511f-4462-da60-cd9cd28dfe36"
      },
      "execution_count": 15,
      "outputs": [
        {
          "output_type": "stream",
          "name": "stderr",
          "text": [
            "\r[*********************100%%**********************]  1 of 1 completed\n"
          ]
        },
        {
          "output_type": "execute_result",
          "data": {
            "text/plain": [
              "                  Open        High         Low       Close   Adj Close  \\\n",
              "Date                                                                     \n",
              "2014-01-02  183.979996  184.070007  182.479996  182.919998  152.196274   \n",
              "2014-01-03  183.229996  183.600006  182.630005  182.889999  152.171341   \n",
              "2014-01-06  183.490005  183.559998  182.080002  182.360001  151.730286   \n",
              "2014-01-07  183.089996  183.789993  182.949997  183.479996  152.662231   \n",
              "2014-01-08  183.449997  183.830002  182.889999  183.520004  152.695480   \n",
              "...                ...         ...         ...         ...         ...   \n",
              "2014-12-24  208.020004  208.339996  207.720001  207.770004  176.250336   \n",
              "2014-12-26  208.309998  208.850006  208.250000  208.440002  176.818680   \n",
              "2014-12-29  208.220001  208.970001  208.139999  208.720001  177.056259   \n",
              "2014-12-30  208.210007  208.369995  207.509995  207.600006  176.106110   \n",
              "2014-12-31  207.990005  208.190002  205.389999  205.539993  174.358612   \n",
              "\n",
              "               Volume  \n",
              "Date                   \n",
              "2014-01-02  119636900  \n",
              "2014-01-03   81390600  \n",
              "2014-01-06  108028200  \n",
              "2014-01-07   86144200  \n",
              "2014-01-08   96582300  \n",
              "...               ...  \n",
              "2014-12-24   42963400  \n",
              "2014-12-26   57326700  \n",
              "2014-12-29   79643900  \n",
              "2014-12-30   73540800  \n",
              "2014-12-31  130333800  \n",
              "\n",
              "[252 rows x 6 columns]"
            ],
            "text/html": [
              "\n",
              "  <div id=\"df-ccdc3075-1570-421c-ab1d-0d0dce9486ff\" class=\"colab-df-container\">\n",
              "    <div>\n",
              "<style scoped>\n",
              "    .dataframe tbody tr th:only-of-type {\n",
              "        vertical-align: middle;\n",
              "    }\n",
              "\n",
              "    .dataframe tbody tr th {\n",
              "        vertical-align: top;\n",
              "    }\n",
              "\n",
              "    .dataframe thead th {\n",
              "        text-align: right;\n",
              "    }\n",
              "</style>\n",
              "<table border=\"1\" class=\"dataframe\">\n",
              "  <thead>\n",
              "    <tr style=\"text-align: right;\">\n",
              "      <th></th>\n",
              "      <th>Open</th>\n",
              "      <th>High</th>\n",
              "      <th>Low</th>\n",
              "      <th>Close</th>\n",
              "      <th>Adj Close</th>\n",
              "      <th>Volume</th>\n",
              "    </tr>\n",
              "    <tr>\n",
              "      <th>Date</th>\n",
              "      <th></th>\n",
              "      <th></th>\n",
              "      <th></th>\n",
              "      <th></th>\n",
              "      <th></th>\n",
              "      <th></th>\n",
              "    </tr>\n",
              "  </thead>\n",
              "  <tbody>\n",
              "    <tr>\n",
              "      <th>2014-01-02</th>\n",
              "      <td>183.979996</td>\n",
              "      <td>184.070007</td>\n",
              "      <td>182.479996</td>\n",
              "      <td>182.919998</td>\n",
              "      <td>152.196274</td>\n",
              "      <td>119636900</td>\n",
              "    </tr>\n",
              "    <tr>\n",
              "      <th>2014-01-03</th>\n",
              "      <td>183.229996</td>\n",
              "      <td>183.600006</td>\n",
              "      <td>182.630005</td>\n",
              "      <td>182.889999</td>\n",
              "      <td>152.171341</td>\n",
              "      <td>81390600</td>\n",
              "    </tr>\n",
              "    <tr>\n",
              "      <th>2014-01-06</th>\n",
              "      <td>183.490005</td>\n",
              "      <td>183.559998</td>\n",
              "      <td>182.080002</td>\n",
              "      <td>182.360001</td>\n",
              "      <td>151.730286</td>\n",
              "      <td>108028200</td>\n",
              "    </tr>\n",
              "    <tr>\n",
              "      <th>2014-01-07</th>\n",
              "      <td>183.089996</td>\n",
              "      <td>183.789993</td>\n",
              "      <td>182.949997</td>\n",
              "      <td>183.479996</td>\n",
              "      <td>152.662231</td>\n",
              "      <td>86144200</td>\n",
              "    </tr>\n",
              "    <tr>\n",
              "      <th>2014-01-08</th>\n",
              "      <td>183.449997</td>\n",
              "      <td>183.830002</td>\n",
              "      <td>182.889999</td>\n",
              "      <td>183.520004</td>\n",
              "      <td>152.695480</td>\n",
              "      <td>96582300</td>\n",
              "    </tr>\n",
              "    <tr>\n",
              "      <th>...</th>\n",
              "      <td>...</td>\n",
              "      <td>...</td>\n",
              "      <td>...</td>\n",
              "      <td>...</td>\n",
              "      <td>...</td>\n",
              "      <td>...</td>\n",
              "    </tr>\n",
              "    <tr>\n",
              "      <th>2014-12-24</th>\n",
              "      <td>208.020004</td>\n",
              "      <td>208.339996</td>\n",
              "      <td>207.720001</td>\n",
              "      <td>207.770004</td>\n",
              "      <td>176.250336</td>\n",
              "      <td>42963400</td>\n",
              "    </tr>\n",
              "    <tr>\n",
              "      <th>2014-12-26</th>\n",
              "      <td>208.309998</td>\n",
              "      <td>208.850006</td>\n",
              "      <td>208.250000</td>\n",
              "      <td>208.440002</td>\n",
              "      <td>176.818680</td>\n",
              "      <td>57326700</td>\n",
              "    </tr>\n",
              "    <tr>\n",
              "      <th>2014-12-29</th>\n",
              "      <td>208.220001</td>\n",
              "      <td>208.970001</td>\n",
              "      <td>208.139999</td>\n",
              "      <td>208.720001</td>\n",
              "      <td>177.056259</td>\n",
              "      <td>79643900</td>\n",
              "    </tr>\n",
              "    <tr>\n",
              "      <th>2014-12-30</th>\n",
              "      <td>208.210007</td>\n",
              "      <td>208.369995</td>\n",
              "      <td>207.509995</td>\n",
              "      <td>207.600006</td>\n",
              "      <td>176.106110</td>\n",
              "      <td>73540800</td>\n",
              "    </tr>\n",
              "    <tr>\n",
              "      <th>2014-12-31</th>\n",
              "      <td>207.990005</td>\n",
              "      <td>208.190002</td>\n",
              "      <td>205.389999</td>\n",
              "      <td>205.539993</td>\n",
              "      <td>174.358612</td>\n",
              "      <td>130333800</td>\n",
              "    </tr>\n",
              "  </tbody>\n",
              "</table>\n",
              "<p>252 rows × 6 columns</p>\n",
              "</div>\n",
              "    <div class=\"colab-df-buttons\">\n",
              "\n",
              "  <div class=\"colab-df-container\">\n",
              "    <button class=\"colab-df-convert\" onclick=\"convertToInteractive('df-ccdc3075-1570-421c-ab1d-0d0dce9486ff')\"\n",
              "            title=\"Convert this dataframe to an interactive table.\"\n",
              "            style=\"display:none;\">\n",
              "\n",
              "  <svg xmlns=\"http://www.w3.org/2000/svg\" height=\"24px\" viewBox=\"0 -960 960 960\">\n",
              "    <path d=\"M120-120v-720h720v720H120Zm60-500h600v-160H180v160Zm220 220h160v-160H400v160Zm0 220h160v-160H400v160ZM180-400h160v-160H180v160Zm440 0h160v-160H620v160ZM180-180h160v-160H180v160Zm440 0h160v-160H620v160Z\"/>\n",
              "  </svg>\n",
              "    </button>\n",
              "\n",
              "  <style>\n",
              "    .colab-df-container {\n",
              "      display:flex;\n",
              "      gap: 12px;\n",
              "    }\n",
              "\n",
              "    .colab-df-convert {\n",
              "      background-color: #E8F0FE;\n",
              "      border: none;\n",
              "      border-radius: 50%;\n",
              "      cursor: pointer;\n",
              "      display: none;\n",
              "      fill: #1967D2;\n",
              "      height: 32px;\n",
              "      padding: 0 0 0 0;\n",
              "      width: 32px;\n",
              "    }\n",
              "\n",
              "    .colab-df-convert:hover {\n",
              "      background-color: #E2EBFA;\n",
              "      box-shadow: 0px 1px 2px rgba(60, 64, 67, 0.3), 0px 1px 3px 1px rgba(60, 64, 67, 0.15);\n",
              "      fill: #174EA6;\n",
              "    }\n",
              "\n",
              "    .colab-df-buttons div {\n",
              "      margin-bottom: 4px;\n",
              "    }\n",
              "\n",
              "    [theme=dark] .colab-df-convert {\n",
              "      background-color: #3B4455;\n",
              "      fill: #D2E3FC;\n",
              "    }\n",
              "\n",
              "    [theme=dark] .colab-df-convert:hover {\n",
              "      background-color: #434B5C;\n",
              "      box-shadow: 0px 1px 3px 1px rgba(0, 0, 0, 0.15);\n",
              "      filter: drop-shadow(0px 1px 2px rgba(0, 0, 0, 0.3));\n",
              "      fill: #FFFFFF;\n",
              "    }\n",
              "  </style>\n",
              "\n",
              "    <script>\n",
              "      const buttonEl =\n",
              "        document.querySelector('#df-ccdc3075-1570-421c-ab1d-0d0dce9486ff button.colab-df-convert');\n",
              "      buttonEl.style.display =\n",
              "        google.colab.kernel.accessAllowed ? 'block' : 'none';\n",
              "\n",
              "      async function convertToInteractive(key) {\n",
              "        const element = document.querySelector('#df-ccdc3075-1570-421c-ab1d-0d0dce9486ff');\n",
              "        const dataTable =\n",
              "          await google.colab.kernel.invokeFunction('convertToInteractive',\n",
              "                                                    [key], {});\n",
              "        if (!dataTable) return;\n",
              "\n",
              "        const docLinkHtml = 'Like what you see? Visit the ' +\n",
              "          '<a target=\"_blank\" href=https://colab.research.google.com/notebooks/data_table.ipynb>data table notebook</a>'\n",
              "          + ' to learn more about interactive tables.';\n",
              "        element.innerHTML = '';\n",
              "        dataTable['output_type'] = 'display_data';\n",
              "        await google.colab.output.renderOutput(dataTable, element);\n",
              "        const docLink = document.createElement('div');\n",
              "        docLink.innerHTML = docLinkHtml;\n",
              "        element.appendChild(docLink);\n",
              "      }\n",
              "    </script>\n",
              "  </div>\n",
              "\n",
              "\n",
              "<div id=\"df-5fa164ed-8e7d-4533-9ae2-eb781ab8f5a2\">\n",
              "  <button class=\"colab-df-quickchart\" onclick=\"quickchart('df-5fa164ed-8e7d-4533-9ae2-eb781ab8f5a2')\"\n",
              "            title=\"Suggest charts\"\n",
              "            style=\"display:none;\">\n",
              "\n",
              "<svg xmlns=\"http://www.w3.org/2000/svg\" height=\"24px\"viewBox=\"0 0 24 24\"\n",
              "     width=\"24px\">\n",
              "    <g>\n",
              "        <path d=\"M19 3H5c-1.1 0-2 .9-2 2v14c0 1.1.9 2 2 2h14c1.1 0 2-.9 2-2V5c0-1.1-.9-2-2-2zM9 17H7v-7h2v7zm4 0h-2V7h2v10zm4 0h-2v-4h2v4z\"/>\n",
              "    </g>\n",
              "</svg>\n",
              "  </button>\n",
              "\n",
              "<style>\n",
              "  .colab-df-quickchart {\n",
              "      --bg-color: #E8F0FE;\n",
              "      --fill-color: #1967D2;\n",
              "      --hover-bg-color: #E2EBFA;\n",
              "      --hover-fill-color: #174EA6;\n",
              "      --disabled-fill-color: #AAA;\n",
              "      --disabled-bg-color: #DDD;\n",
              "  }\n",
              "\n",
              "  [theme=dark] .colab-df-quickchart {\n",
              "      --bg-color: #3B4455;\n",
              "      --fill-color: #D2E3FC;\n",
              "      --hover-bg-color: #434B5C;\n",
              "      --hover-fill-color: #FFFFFF;\n",
              "      --disabled-bg-color: #3B4455;\n",
              "      --disabled-fill-color: #666;\n",
              "  }\n",
              "\n",
              "  .colab-df-quickchart {\n",
              "    background-color: var(--bg-color);\n",
              "    border: none;\n",
              "    border-radius: 50%;\n",
              "    cursor: pointer;\n",
              "    display: none;\n",
              "    fill: var(--fill-color);\n",
              "    height: 32px;\n",
              "    padding: 0;\n",
              "    width: 32px;\n",
              "  }\n",
              "\n",
              "  .colab-df-quickchart:hover {\n",
              "    background-color: var(--hover-bg-color);\n",
              "    box-shadow: 0 1px 2px rgba(60, 64, 67, 0.3), 0 1px 3px 1px rgba(60, 64, 67, 0.15);\n",
              "    fill: var(--button-hover-fill-color);\n",
              "  }\n",
              "\n",
              "  .colab-df-quickchart-complete:disabled,\n",
              "  .colab-df-quickchart-complete:disabled:hover {\n",
              "    background-color: var(--disabled-bg-color);\n",
              "    fill: var(--disabled-fill-color);\n",
              "    box-shadow: none;\n",
              "  }\n",
              "\n",
              "  .colab-df-spinner {\n",
              "    border: 2px solid var(--fill-color);\n",
              "    border-color: transparent;\n",
              "    border-bottom-color: var(--fill-color);\n",
              "    animation:\n",
              "      spin 1s steps(1) infinite;\n",
              "  }\n",
              "\n",
              "  @keyframes spin {\n",
              "    0% {\n",
              "      border-color: transparent;\n",
              "      border-bottom-color: var(--fill-color);\n",
              "      border-left-color: var(--fill-color);\n",
              "    }\n",
              "    20% {\n",
              "      border-color: transparent;\n",
              "      border-left-color: var(--fill-color);\n",
              "      border-top-color: var(--fill-color);\n",
              "    }\n",
              "    30% {\n",
              "      border-color: transparent;\n",
              "      border-left-color: var(--fill-color);\n",
              "      border-top-color: var(--fill-color);\n",
              "      border-right-color: var(--fill-color);\n",
              "    }\n",
              "    40% {\n",
              "      border-color: transparent;\n",
              "      border-right-color: var(--fill-color);\n",
              "      border-top-color: var(--fill-color);\n",
              "    }\n",
              "    60% {\n",
              "      border-color: transparent;\n",
              "      border-right-color: var(--fill-color);\n",
              "    }\n",
              "    80% {\n",
              "      border-color: transparent;\n",
              "      border-right-color: var(--fill-color);\n",
              "      border-bottom-color: var(--fill-color);\n",
              "    }\n",
              "    90% {\n",
              "      border-color: transparent;\n",
              "      border-bottom-color: var(--fill-color);\n",
              "    }\n",
              "  }\n",
              "</style>\n",
              "\n",
              "  <script>\n",
              "    async function quickchart(key) {\n",
              "      const quickchartButtonEl =\n",
              "        document.querySelector('#' + key + ' button');\n",
              "      quickchartButtonEl.disabled = true;  // To prevent multiple clicks.\n",
              "      quickchartButtonEl.classList.add('colab-df-spinner');\n",
              "      try {\n",
              "        const charts = await google.colab.kernel.invokeFunction(\n",
              "            'suggestCharts', [key], {});\n",
              "      } catch (error) {\n",
              "        console.error('Error during call to suggestCharts:', error);\n",
              "      }\n",
              "      quickchartButtonEl.classList.remove('colab-df-spinner');\n",
              "      quickchartButtonEl.classList.add('colab-df-quickchart-complete');\n",
              "    }\n",
              "    (() => {\n",
              "      let quickchartButtonEl =\n",
              "        document.querySelector('#df-5fa164ed-8e7d-4533-9ae2-eb781ab8f5a2 button');\n",
              "      quickchartButtonEl.style.display =\n",
              "        google.colab.kernel.accessAllowed ? 'block' : 'none';\n",
              "    })();\n",
              "  </script>\n",
              "</div>\n",
              "\n",
              "  <div id=\"id_4ebc56ca-d1f8-4c8f-9ea3-cbd648163240\">\n",
              "    <style>\n",
              "      .colab-df-generate {\n",
              "        background-color: #E8F0FE;\n",
              "        border: none;\n",
              "        border-radius: 50%;\n",
              "        cursor: pointer;\n",
              "        display: none;\n",
              "        fill: #1967D2;\n",
              "        height: 32px;\n",
              "        padding: 0 0 0 0;\n",
              "        width: 32px;\n",
              "      }\n",
              "\n",
              "      .colab-df-generate:hover {\n",
              "        background-color: #E2EBFA;\n",
              "        box-shadow: 0px 1px 2px rgba(60, 64, 67, 0.3), 0px 1px 3px 1px rgba(60, 64, 67, 0.15);\n",
              "        fill: #174EA6;\n",
              "      }\n",
              "\n",
              "      [theme=dark] .colab-df-generate {\n",
              "        background-color: #3B4455;\n",
              "        fill: #D2E3FC;\n",
              "      }\n",
              "\n",
              "      [theme=dark] .colab-df-generate:hover {\n",
              "        background-color: #434B5C;\n",
              "        box-shadow: 0px 1px 3px 1px rgba(0, 0, 0, 0.15);\n",
              "        filter: drop-shadow(0px 1px 2px rgba(0, 0, 0, 0.3));\n",
              "        fill: #FFFFFF;\n",
              "      }\n",
              "    </style>\n",
              "    <button class=\"colab-df-generate\" onclick=\"generateWithVariable('pricing')\"\n",
              "            title=\"Generate code using this dataframe.\"\n",
              "            style=\"display:none;\">\n",
              "\n",
              "  <svg xmlns=\"http://www.w3.org/2000/svg\" height=\"24px\"viewBox=\"0 0 24 24\"\n",
              "       width=\"24px\">\n",
              "    <path d=\"M7,19H8.4L18.45,9,17,7.55,7,17.6ZM5,21V16.75L18.45,3.32a2,2,0,0,1,2.83,0l1.4,1.43a1.91,1.91,0,0,1,.58,1.4,1.91,1.91,0,0,1-.58,1.4L9.25,21ZM18.45,9,17,7.55Zm-12,3A5.31,5.31,0,0,0,4.9,8.1,5.31,5.31,0,0,0,1,6.5,5.31,5.31,0,0,0,4.9,4.9,5.31,5.31,0,0,0,6.5,1,5.31,5.31,0,0,0,8.1,4.9,5.31,5.31,0,0,0,12,6.5,5.46,5.46,0,0,0,6.5,12Z\"/>\n",
              "  </svg>\n",
              "    </button>\n",
              "    <script>\n",
              "      (() => {\n",
              "      const buttonEl =\n",
              "        document.querySelector('#id_4ebc56ca-d1f8-4c8f-9ea3-cbd648163240 button.colab-df-generate');\n",
              "      buttonEl.style.display =\n",
              "        google.colab.kernel.accessAllowed ? 'block' : 'none';\n",
              "\n",
              "      buttonEl.onclick = () => {\n",
              "        google.colab.notebook.generateWithVariable('pricing');\n",
              "      }\n",
              "      })();\n",
              "    </script>\n",
              "  </div>\n",
              "\n",
              "    </div>\n",
              "  </div>\n"
            ],
            "application/vnd.google.colaboratory.intrinsic+json": {
              "type": "dataframe",
              "variable_name": "pricing",
              "summary": "{\n  \"name\": \"pricing\",\n  \"rows\": 252,\n  \"fields\": [\n    {\n      \"column\": \"Date\",\n      \"properties\": {\n        \"dtype\": \"date\",\n        \"min\": \"2014-01-02 00:00:00\",\n        \"max\": \"2014-12-31 00:00:00\",\n        \"num_unique_values\": 252,\n        \"samples\": [\n          \"2014-08-28 00:00:00\",\n          \"2014-01-10 00:00:00\",\n          \"2014-06-12 00:00:00\"\n        ],\n        \"semantic_type\": \"\",\n        \"description\": \"\"\n      }\n    },\n    {\n      \"column\": \"Open\",\n      \"properties\": {\n        \"dtype\": \"number\",\n        \"std\": 8.016845895631935,\n        \"min\": 174.77999877929688,\n        \"max\": 208.30999755859375,\n        \"num_unique_values\": 241,\n        \"samples\": [\n          178.30999755859375,\n          183.9499969482422,\n          207.3000030517578\n        ],\n        \"semantic_type\": \"\",\n        \"description\": \"\"\n      }\n    },\n    {\n      \"column\": \"High\",\n      \"properties\": {\n        \"dtype\": \"number\",\n        \"std\": 7.995775569117633,\n        \"min\": 175.55999755859375,\n        \"max\": 212.97000122070312,\n        \"num_unique_values\": 238,\n        \"samples\": [\n          195.6300048828125,\n          181.66000366210938,\n          207.38999938964844\n        ],\n        \"semantic_type\": \"\",\n        \"description\": \"\"\n      }\n    },\n    {\n      \"column\": \"Low\",\n      \"properties\": {\n        \"dtype\": \"number\",\n        \"std\": 8.11925402495262,\n        \"min\": 173.7100067138672,\n        \"max\": 208.25,\n        \"num_unique_values\": 242,\n        \"samples\": [\n          175.22000122070312,\n          183.00999450683594,\n          196.69000244140625\n        ],\n        \"semantic_type\": \"\",\n        \"description\": \"\"\n      }\n    },\n    {\n      \"column\": \"Close\",\n      \"properties\": {\n        \"dtype\": \"number\",\n        \"std\": 8.040553471131624,\n        \"min\": 174.1699981689453,\n        \"max\": 208.72000122070312,\n        \"num_unique_values\": 241,\n        \"samples\": [\n          179.67999267578125,\n          184.13999938964844,\n          207.88999938964844\n        ],\n        \"semantic_type\": \"\",\n        \"description\": \"\"\n      }\n    },\n    {\n      \"column\": \"Adj Close\",\n      \"properties\": {\n        \"dtype\": \"number\",\n        \"std\": 7.5071475043863085,\n        \"min\": 144.91592407226562,\n        \"max\": 177.05625915527344,\n        \"num_unique_values\": 245,\n        \"samples\": [\n          149.50045776367188,\n          153.21141052246094,\n          167.03587341308594\n        ],\n        \"semantic_type\": \"\",\n        \"description\": \"\"\n      }\n    },\n    {\n      \"column\": \"Volume\",\n      \"properties\": {\n        \"dtype\": \"number\",\n        \"std\": 48194483,\n        \"min\": 42963400,\n        \"max\": 380715000,\n        \"num_unique_values\": 252,\n        \"samples\": [\n          58330000,\n          102026400,\n          106350000\n        ],\n        \"semantic_type\": \"\",\n        \"description\": \"\"\n      }\n    }\n  ]\n}"
            }
          },
          "metadata": {},
          "execution_count": 15
        }
      ]
    },
    {
      "cell_type": "code",
      "source": [
        "returns = pricing['Close'].pct_change()[1:]\n",
        "hist, bins = np.histogram(returns, 20)\n",
        "maxfreq = np.max(hist)\n",
        "vals = [(bins[i], bins[i+1]) for i, j in enumerate(hist) if j == maxfreq]\n",
        "print(f'Mode of returns: {mode(returns)}')\n",
        "print(f'Mode of bins: {vals}')"
      ],
      "metadata": {
        "colab": {
          "base_uri": "https://localhost:8080/"
        },
        "id": "-9dd5ufQmGzF",
        "outputId": "10811d79-5fe4-44eb-f5b8-5c900d37cbb0"
      },
      "execution_count": 26,
      "outputs": [
        {
          "output_type": "stream",
          "name": "stdout",
          "text": [
            "Mode of returns: No mode\n",
            "Mode of bins: [(-0.0012499981123169877, 0.0011117022955209332)]\n"
          ]
        }
      ]
    },
    {
      "cell_type": "markdown",
      "source": [
        "### Geometric mean"
      ],
      "metadata": {
        "id": "1xzF9tgfnqrX"
      }
    },
    {
      "cell_type": "code",
      "source": [
        "print(f'Geometric mean of x1: {stats.gmean(x1)}')\n",
        "print(f'Geometric mean of x2: {stats.gmean(x2)}')"
      ],
      "metadata": {
        "colab": {
          "base_uri": "https://localhost:8080/"
        },
        "id": "GPS7oz1_m5pl",
        "outputId": "cbdb5c84-6ec4-4164-a8cc-c8165c0818ad"
      },
      "execution_count": 27,
      "outputs": [
        {
          "output_type": "stream",
          "name": "stdout",
          "text": [
            "Geometric mean of x1: 3.0941040249774403\n",
            "Geometric mean of x2: 4.552534587620071\n"
          ]
        }
      ]
    },
    {
      "cell_type": "code",
      "source": [
        "ratios = returns + np.ones(shape=returns.shape[0])\n",
        "R_G = stats.gmean(ratios) - 1\n",
        "print(f'Geometric mean of returns: {R_G}')"
      ],
      "metadata": {
        "colab": {
          "base_uri": "https://localhost:8080/"
        },
        "id": "viEbwGP_oKCd",
        "outputId": "8d5c6183-fc60-4c14-ff50-8e1981467454"
      },
      "execution_count": 28,
      "outputs": [
        {
          "output_type": "stream",
          "name": "stdout",
          "text": [
            "Geometric mean of returns: 0.00046461682827958484\n"
          ]
        }
      ]
    },
    {
      "cell_type": "code",
      "source": [
        "T = returns.shape[0]\n",
        "init_price = pricing['Close'][0]\n",
        "final_price = pricing['Close'][-1]\n",
        "print(f'Initial price: {init_price}')\n",
        "print(f'Final price: {final_price}')\n",
        "print(f'Final price as computed: {init_price * (1 + R_G)**T}')"
      ],
      "metadata": {
        "colab": {
          "base_uri": "https://localhost:8080/"
        },
        "id": "xMDyvqRWojvr",
        "outputId": "54ccf623-2b08-4d93-9d6e-965ae15974cd"
      },
      "execution_count": 34,
      "outputs": [
        {
          "output_type": "stream",
          "name": "stdout",
          "text": [
            "Initial price: 182.9199981689453\n",
            "Final price: 205.5399932861328\n",
            "Final price as computed: 205.53999328613\n"
          ]
        }
      ]
    },
    {
      "cell_type": "markdown",
      "source": [
        "### Harmonic Mean"
      ],
      "metadata": {
        "id": "hZsbEyZUph0h"
      }
    },
    {
      "cell_type": "code",
      "source": [
        "print(f'Harmonic mean of x1: {stats.hmean(x1)}')\n",
        "print(f'Harmonic mean of x2: {stats.hmean(x2)}')"
      ],
      "metadata": {
        "colab": {
          "base_uri": "https://localhost:8080/"
        },
        "id": "wsWB9Ee4pSRN",
        "outputId": "87ac65d1-6ec5-4c30-86a5-7db3a13fe2e7"
      },
      "execution_count": 35,
      "outputs": [
        {
          "output_type": "stream",
          "name": "stdout",
          "text": [
            "Harmonic mean of x1: 2.5590251332825593\n",
            "Harmonic mean of x2: 2.869723656240511\n"
          ]
        }
      ]
    },
    {
      "cell_type": "markdown",
      "source": [
        "## Questions"
      ],
      "metadata": {
        "id": "QcBSJcvQs16l"
      }
    },
    {
      "cell_type": "code",
      "source": [
        "## data\n",
        "l=[]\n",
        "for x in range(1,100):\n",
        "    x=np.random.randint(1,100)\n",
        "    l.append(x)"
      ],
      "metadata": {
        "id": "BDIpL032ssM2"
      },
      "execution_count": 36,
      "outputs": []
    },
    {
      "cell_type": "markdown",
      "source": [
        "### 1. Mean"
      ],
      "metadata": {
        "id": "wZL6ng9Ft38M"
      }
    },
    {
      "cell_type": "code",
      "source": [
        "# a. Mean of random data set\n",
        "np.mean(l)"
      ],
      "metadata": {
        "colab": {
          "base_uri": "https://localhost:8080/"
        },
        "id": "nLIzk4tWs_WY",
        "outputId": "1a95a021-2794-49a6-ca80-f1e086e136dd"
      },
      "execution_count": 37,
      "outputs": [
        {
          "output_type": "execute_result",
          "data": {
            "text/plain": [
              "46.898989898989896"
            ]
          },
          "metadata": {},
          "execution_count": 37
        }
      ]
    },
    {
      "cell_type": "code",
      "source": [
        "# b. mean of returns\n",
        "start = '2005-01-01'\n",
        "end = '2010-01-01'\n",
        "price = yf.download('ITI', start=start, end=end)[['Close']]\n",
        "returns = price.pct_change()[1:]\n",
        "print(f'\\nMean of returns: {np.mean(returns)}')"
      ],
      "metadata": {
        "colab": {
          "base_uri": "https://localhost:8080/"
        },
        "id": "KyaEy2SntD9z",
        "outputId": "5675bba9-a5d4-474d-b164-3fb80b74d981"
      },
      "execution_count": 42,
      "outputs": [
        {
          "output_type": "stream",
          "name": "stderr",
          "text": [
            "\r[*********************100%%**********************]  1 of 1 completed"
          ]
        },
        {
          "output_type": "stream",
          "name": "stdout",
          "text": [
            "\n",
            "Mean of returns: -4.482282705837242e-05\n"
          ]
        },
        {
          "output_type": "stream",
          "name": "stderr",
          "text": [
            "\n"
          ]
        }
      ]
    },
    {
      "cell_type": "markdown",
      "source": [
        "### 2. Median"
      ],
      "metadata": {
        "id": "HLjAskyOuJuG"
      }
    },
    {
      "cell_type": "code",
      "source": [
        "# Median of data set\n",
        "print(f'median of l: {np.median(l)}')"
      ],
      "metadata": {
        "colab": {
          "base_uri": "https://localhost:8080/"
        },
        "id": "Oi0aIRC6tbCI",
        "outputId": "2ef39213-b1f5-43a7-e4a0-0abcdfba7694"
      },
      "execution_count": 43,
      "outputs": [
        {
          "output_type": "stream",
          "name": "stdout",
          "text": [
            "median of l: 45.0\n"
          ]
        }
      ]
    },
    {
      "cell_type": "code",
      "source": [
        "# Median for Bank of America\n",
        "price = yf.download('BAC', start=start, end=end)[['Close']]\n",
        "returns = price.pct_change()[1:]\n",
        "print(f'\\nMean of returns: {np.mean(returns)}')"
      ],
      "metadata": {
        "colab": {
          "base_uri": "https://localhost:8080/"
        },
        "id": "IDcdw6dUuUBE",
        "outputId": "6373f1ce-4509-42fd-9182-6dc11b7c68ca"
      },
      "execution_count": 48,
      "outputs": [
        {
          "output_type": "stream",
          "name": "stderr",
          "text": [
            "\r[*********************100%%**********************]  1 of 1 completed"
          ]
        },
        {
          "output_type": "stream",
          "name": "stdout",
          "text": [
            "\n",
            "Mean of returns: 0.00012800828654452868\n"
          ]
        },
        {
          "output_type": "stream",
          "name": "stderr",
          "text": [
            "\n"
          ]
        }
      ]
    },
    {
      "cell_type": "markdown",
      "source": [
        "### 3. Mode"
      ],
      "metadata": {
        "id": "P9XiWwO8uiLE"
      }
    },
    {
      "cell_type": "code",
      "source": [
        "# mode of data set\n",
        "mode(l)"
      ],
      "metadata": {
        "colab": {
          "base_uri": "https://localhost:8080/"
        },
        "id": "hNle0e7tuc5-",
        "outputId": "22cce558-1753-4dfd-a0fb-62a29a9dbc21"
      },
      "execution_count": 47,
      "outputs": [
        {
          "output_type": "execute_result",
          "data": {
            "text/plain": [
              "[15]"
            ]
          },
          "metadata": {},
          "execution_count": 47
        }
      ]
    },
    {
      "cell_type": "code",
      "source": [
        "# mode of returns for Goldman Sachs\n",
        "price = yf.download('GS', start=start, end=end)[['Close']]\n",
        "returns = price.pct_change()[1:]\n",
        "print(f'\\nMean of returns: {mode(returns)}')"
      ],
      "metadata": {
        "colab": {
          "base_uri": "https://localhost:8080/"
        },
        "id": "s11e1hPkukxg",
        "outputId": "335c9d94-ae65-4be6-91c1-22597b979cc0"
      },
      "execution_count": 50,
      "outputs": [
        {
          "output_type": "stream",
          "name": "stderr",
          "text": [
            "\r[*********************100%%**********************]  1 of 1 completed"
          ]
        },
        {
          "output_type": "stream",
          "name": "stdout",
          "text": [
            "\n",
            "Mean of returns: No mode\n"
          ]
        },
        {
          "output_type": "stream",
          "name": "stderr",
          "text": [
            "\n"
          ]
        }
      ]
    },
    {
      "cell_type": "code",
      "source": [
        "hist, bins = np.histogram(returns, 20)\n",
        "maxfreq = np.max(hist)\n",
        "print('Mode of bins:', [(bins[i], bins[i+1]) for i, j in enumerate(hist) if j == maxfreq])"
      ],
      "metadata": {
        "colab": {
          "base_uri": "https://localhost:8080/"
        },
        "id": "mOse1MQwuv_g",
        "outputId": "8bb31fc6-c34c-4605-8d57-f6d4b7c023f4"
      },
      "execution_count": 52,
      "outputs": [
        {
          "output_type": "stream",
          "name": "stdout",
          "text": [
            "Mode of bins: [(-0.007886422320767805, 0.014827298691697327)]\n"
          ]
        }
      ]
    },
    {
      "cell_type": "markdown",
      "source": [
        "### 4. Geometric Mean"
      ],
      "metadata": {
        "id": "bdbc0pPgv0lN"
      }
    },
    {
      "cell_type": "code",
      "source": [
        "print(f'Geometric mean of l: {stats.gmean(l)}')"
      ],
      "metadata": {
        "colab": {
          "base_uri": "https://localhost:8080/"
        },
        "id": "Aw-wPFFMu-GS",
        "outputId": "4f471116-49bf-4473-dd43-79ee746b01ff"
      },
      "execution_count": 53,
      "outputs": [
        {
          "output_type": "stream",
          "name": "stdout",
          "text": [
            "Geometric mean of l: 33.00848090823866\n"
          ]
        }
      ]
    },
    {
      "cell_type": "code",
      "source": [
        "# Geometric mean of returns\n",
        "price = yf.download('C', start='2005-01-01', end='2010-01-01')[['Open']]\n",
        "print(f'\\nMean of returns: {stats.gmean(price.Open)}')"
      ],
      "metadata": {
        "colab": {
          "base_uri": "https://localhost:8080/"
        },
        "id": "okvBmJgKv8EH",
        "outputId": "d88db8d8-bde2-46e8-c086-e8a9aaa688ec"
      },
      "execution_count": 61,
      "outputs": [
        {
          "output_type": "stream",
          "name": "stderr",
          "text": [
            "\r[*********************100%%**********************]  1 of 1 completed"
          ]
        },
        {
          "output_type": "stream",
          "name": "stdout",
          "text": [
            "\n",
            "Mean of returns: 232.5769756281446\n"
          ]
        },
        {
          "output_type": "stream",
          "name": "stderr",
          "text": [
            "\n"
          ]
        }
      ]
    },
    {
      "cell_type": "markdown",
      "source": [
        "### Skewness"
      ],
      "metadata": {
        "id": "8ESjwj2pxJtS"
      }
    },
    {
      "cell_type": "code",
      "source": [
        "price = yf.download('SPY', start='2005-01-01', end='2010-01-01')[['Volume']]\n",
        "returns = price.Volume.pct_change()[1:]"
      ],
      "metadata": {
        "colab": {
          "base_uri": "https://localhost:8080/"
        },
        "id": "qseRi4Suv-r2",
        "outputId": "80d2ea24-89c3-4d94-f555-2d156d4c3fd0"
      },
      "execution_count": 71,
      "outputs": [
        {
          "output_type": "stream",
          "name": "stderr",
          "text": [
            "\r[*********************100%%**********************]  1 of 1 completed\n"
          ]
        }
      ]
    },
    {
      "cell_type": "code",
      "source": [
        "import matplotlib.pyplot as plt\n",
        "\n",
        "fig, ax = plt.subplots(figsize=(10, 7))\n",
        "plt.title('Histogram of Returns')\n",
        "returns.hist(bins=50, ax=ax)\n",
        "ax.set_ylim([0, 160])\n",
        "ax.set_xlim([-1, 3.0])\n",
        "ax.set_xlabel('Pct Change')\n",
        "ax.set_ylabel('Counts')\n",
        "plt.show()"
      ],
      "metadata": {
        "colab": {
          "base_uri": "https://localhost:8080/",
          "height": 641
        },
        "id": "CWchJLJmxfgr",
        "outputId": "34f2203d-08b3-4688-a28a-d741dac18a61"
      },
      "execution_count": 75,
      "outputs": [
        {
          "output_type": "display_data",
          "data": {
            "text/plain": [
              "<Figure size 1000x700 with 1 Axes>"
            ],
            "image/png": "[encoded data removed]"
          },
          "metadata": {}
        }
      ]
    },
    {
      "cell_type": "code",
      "source": [],
      "metadata": {
        "id": "voOrD_vSxkY9"
      },
      "execution_count": null,
      "outputs": []
    }
  ]
}