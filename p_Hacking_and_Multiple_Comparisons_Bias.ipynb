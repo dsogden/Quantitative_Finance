{
  "nbformat": 4,
  "nbformat_minor": 0,
  "metadata": {
    "colab": {
      "provenance": [],
      "authorship_tag": "ABX9TyMoohjggPrrvSTrBwLmpDj0",
      "include_colab_link": true
    },
    "kernelspec": {
      "name": "python3",
      "display_name": "Python 3"
    },
    "language_info": {
      "name": "python"
    }
  },
  "cells": [
    {
      "cell_type": "markdown",
      "metadata": {
        "id": "view-in-github",
        "colab_type": "text"
      },
      "source": [
        "<a href=\"https://colab.research.google.com/github/dsogden/Quantitative_Finance/blob/main/p_Hacking_and_Multiple_Comparisons_Bias.ipynb\" target=\"_parent\"><img src=\"https://colab.research.google.com/assets/colab-badge.svg\" alt=\"Open In Colab\"/></a>"
      ]
    },
    {
      "cell_type": "code",
      "execution_count": 1,
      "metadata": {
        "id": "tRqaM8DNh3fG"
      },
      "outputs": [],
      "source": [
        "import numpy as np\n",
        "import pandas as pd\n",
        "import scipy.stats as stats\n",
        "import matplotlib.pyplot as plt\n",
        "import seaborn as sns"
      ]
    },
    {
      "cell_type": "code",
      "source": [
        "X = pd.Series(np.random.normal(0, 1, 100))\n",
        "Y = X\n",
        "r_s = stats.spearmanr(Y, X)\n",
        "print(f'Spearman Rank Coefficient: {r_s[0]}')\n",
        "print(f'P-Value: {r_s[-1]}')"
      ],
      "metadata": {
        "colab": {
          "base_uri": "https://localhost:8080/"
        },
        "id": "vRZQm2ofiNGP",
        "outputId": "e45ccaee-84fd-4fef-edb5-0adeada63837"
      },
      "execution_count": 2,
      "outputs": [
        {
          "output_type": "stream",
          "name": "stdout",
          "text": [
            "Spearman Rank Coefficient: 0.9999999999999999\n",
            "P-Value: 0.0\n"
          ]
        }
      ]
    },
    {
      "cell_type": "code",
      "source": [
        "X = pd.Series(np.random.normal(0, 1, 100))\n",
        "Y = X + np.random.normal(0, 1, 100)\n",
        "r_s = stats.spearmanr(Y, X)\n",
        "print(f'Spearman Rank Coefficient: {r_s[0]}')\n",
        "print(f'P-Value: {r_s[-1]}')"
      ],
      "metadata": {
        "colab": {
          "base_uri": "https://localhost:8080/"
        },
        "id": "pfYkG_d4i1kd",
        "outputId": "56342d75-b6fb-4f0f-ebc3-cd74c0f41549"
      },
      "execution_count": 3,
      "outputs": [
        {
          "output_type": "stream",
          "name": "stdout",
          "text": [
            "Spearman Rank Coefficient: 0.6526132613261325\n",
            "P-Value: 1.884211003708645e-13\n"
          ]
        }
      ]
    },
    {
      "cell_type": "markdown",
      "source": [
        "### Cutoff is Significance Level"
      ],
      "metadata": {
        "id": "uAyvDBbbjF4k"
      }
    },
    {
      "cell_type": "code",
      "source": [
        "cutoff = 0.05\n",
        "X = pd.Series(np.random.normal(0, 1, 100))\n",
        "Y = X\n",
        "r_s = stats.spearmanr(Y, X)\n",
        "pval = r_s[-1]\n",
        "\n",
        "if pval < cutoff:\n",
        "    print('There is significant evidence of a relationship')\n",
        "else:\n",
        "    print('There is not significant evidence of a relationship')"
      ],
      "metadata": {
        "colab": {
          "base_uri": "https://localhost:8080/"
        },
        "id": "k3oMSHTwi6yQ",
        "outputId": "6406c2c8-8702-46d9-9c62-7d9b69b17ffe"
      },
      "execution_count": 5,
      "outputs": [
        {
          "output_type": "stream",
          "name": "stdout",
          "text": [
            "There is significant evidence of a relationship\n"
          ]
        }
      ]
    },
    {
      "cell_type": "markdown",
      "source": [
        "### Experiment - Running Many Tests"
      ],
      "metadata": {
        "id": "yaaK6iIIjsGO"
      }
    },
    {
      "cell_type": "code",
      "source": [
        "df = pd.DataFrame()\n",
        "\n",
        "N = 20\n",
        "T = 100\n",
        "\n",
        "for i in range(N):\n",
        "    x = np.random.normal(0, 1, T)\n",
        "    X = pd.Series(X)\n",
        "    name = f'X{i}'\n",
        "    df[name] = X\n",
        "\n",
        "df.head(10)"
      ],
      "metadata": {
        "colab": {
          "base_uri": "https://localhost:8080/",
          "height": 363
        },
        "id": "lYwTxVaojYH9",
        "outputId": "ec978f24-6b69-461d-8090-63b4d73ba0c6"
      },
      "execution_count": 6,
      "outputs": [
        {
          "output_type": "execute_result",
          "data": {
            "text/plain": [
              "         X0        X1        X2        X3        X4        X5        X6  \\\n",
              "0  0.986470  0.986470  0.986470  0.986470  0.986470  0.986470  0.986470   \n",
              "1  2.385542  2.385542  2.385542  2.385542  2.385542  2.385542  2.385542   \n",
              "2  0.544383  0.544383  0.544383  0.544383  0.544383  0.544383  0.544383   \n",
              "3  0.653319  0.653319  0.653319  0.653319  0.653319  0.653319  0.653319   \n",
              "4 -1.211040 -1.211040 -1.211040 -1.211040 -1.211040 -1.211040 -1.211040   \n",
              "5 -0.627140 -0.627140 -0.627140 -0.627140 -0.627140 -0.627140 -0.627140   \n",
              "6 -0.290810 -0.290810 -0.290810 -0.290810 -0.290810 -0.290810 -0.290810   \n",
              "7 -1.090860 -1.090860 -1.090860 -1.090860 -1.090860 -1.090860 -1.090860   \n",
              "8 -0.987347 -0.987347 -0.987347 -0.987347 -0.987347 -0.987347 -0.987347   \n",
              "9  0.544142  0.544142  0.544142  0.544142  0.544142  0.544142  0.544142   \n",
              "\n",
              "         X7        X8        X9       X10       X11       X12       X13  \\\n",
              "0  0.986470  0.986470  0.986470  0.986470  0.986470  0.986470  0.986470   \n",
              "1  2.385542  2.385542  2.385542  2.385542  2.385542  2.385542  2.385542   \n",
              "2  0.544383  0.544383  0.544383  0.544383  0.544383  0.544383  0.544383   \n",
              "3  0.653319  0.653319  0.653319  0.653319  0.653319  0.653319  0.653319   \n",
              "4 -1.211040 -1.211040 -1.211040 -1.211040 -1.211040 -1.211040 -1.211040   \n",
              "5 -0.627140 -0.627140 -0.627140 -0.627140 -0.627140 -0.627140 -0.627140   \n",
              "6 -0.290810 -0.290810 -0.290810 -0.290810 -0.290810 -0.290810 -0.290810   \n",
              "7 -1.090860 -1.090860 -1.090860 -1.090860 -1.090860 -1.090860 -1.090860   \n",
              "8 -0.987347 -0.987347 -0.987347 -0.987347 -0.987347 -0.987347 -0.987347   \n",
              "9  0.544142  0.544142  0.544142  0.544142  0.544142  0.544142  0.544142   \n",
              "\n",
              "        X14       X15       X16       X17       X18       X19  \n",
              "0  0.986470  0.986470  0.986470  0.986470  0.986470  0.986470  \n",
              "1  2.385542  2.385542  2.385542  2.385542  2.385542  2.385542  \n",
              "2  0.544383  0.544383  0.544383  0.544383  0.544383  0.544383  \n",
              "3  0.653319  0.653319  0.653319  0.653319  0.653319  0.653319  \n",
              "4 -1.211040 -1.211040 -1.211040 -1.211040 -1.211040 -1.211040  \n",
              "5 -0.627140 -0.627140 -0.627140 -0.627140 -0.627140 -0.627140  \n",
              "6 -0.290810 -0.290810 -0.290810 -0.290810 -0.290810 -0.290810  \n",
              "7 -1.090860 -1.090860 -1.090860 -1.090860 -1.090860 -1.090860  \n",
              "8 -0.987347 -0.987347 -0.987347 -0.987347 -0.987347 -0.987347  \n",
              "9  0.544142  0.544142  0.544142  0.544142  0.544142  0.544142  "
            ],
            "text/html": [
              "\n",
              "  <div id=\"df-6300a2f8-da1d-467a-8c5e-7455fc1d8f84\" class=\"colab-df-container\">\n",
              "    <div>\n",
              "<style scoped>\n",
              "    .dataframe tbody tr th:only-of-type {\n",
              "        vertical-align: middle;\n",
              "    }\n",
              "\n",
              "    .dataframe tbody tr th {\n",
              "        vertical-align: top;\n",
              "    }\n",
              "\n",
              "    .dataframe thead th {\n",
              "        text-align: right;\n",
              "    }\n",
              "</style>\n",
              "<table border=\"1\" class=\"dataframe\">\n",
              "  <thead>\n",
              "    <tr style=\"text-align: right;\">\n",
              "      <th></th>\n",
              "      <th>X0</th>\n",
              "      <th>X1</th>\n",
              "      <th>X2</th>\n",
              "      <th>X3</th>\n",
              "      <th>X4</th>\n",
              "      <th>X5</th>\n",
              "      <th>X6</th>\n",
              "      <th>X7</th>\n",
              "      <th>X8</th>\n",
              "      <th>X9</th>\n",
              "      <th>X10</th>\n",
              "      <th>X11</th>\n",
              "      <th>X12</th>\n",
              "      <th>X13</th>\n",
              "      <th>X14</th>\n",
              "      <th>X15</th>\n",
              "      <th>X16</th>\n",
              "      <th>X17</th>\n",
              "      <th>X18</th>\n",
              "      <th>X19</th>\n",
              "    </tr>\n",
              "  </thead>\n",
              "  <tbody>\n",
              "    <tr>\n",
              "      <th>0</th>\n",
              "      <td>0.986470</td>\n",
              "      <td>0.986470</td>\n",
              "      <td>0.986470</td>\n",
              "      <td>0.986470</td>\n",
              "      <td>0.986470</td>\n",
              "      <td>0.986470</td>\n",
              "      <td>0.986470</td>\n",
              "      <td>0.986470</td>\n",
              "      <td>0.986470</td>\n",
              "      <td>0.986470</td>\n",
              "      <td>0.986470</td>\n",
              "      <td>0.986470</td>\n",
              "      <td>0.986470</td>\n",
              "      <td>0.986470</td>\n",
              "      <td>0.986470</td>\n",
              "      <td>0.986470</td>\n",
              "      <td>0.986470</td>\n",
              "      <td>0.986470</td>\n",
              "      <td>0.986470</td>\n",
              "      <td>0.986470</td>\n",
              "    </tr>\n",
              "    <tr>\n",
              "      <th>1</th>\n",
              "      <td>2.385542</td>\n",
              "      <td>2.385542</td>\n",
              "      <td>2.385542</td>\n",
              "      <td>2.385542</td>\n",
              "      <td>2.385542</td>\n",
              "      <td>2.385542</td>\n",
              "      <td>2.385542</td>\n",
              "      <td>2.385542</td>\n",
              "      <td>2.385542</td>\n",
              "      <td>2.385542</td>\n",
              "      <td>2.385542</td>\n",
              "      <td>2.385542</td>\n",
              "      <td>2.385542</td>\n",
              "      <td>2.385542</td>\n",
              "      <td>2.385542</td>\n",
              "      <td>2.385542</td>\n",
              "      <td>2.385542</td>\n",
              "      <td>2.385542</td>\n",
              "      <td>2.385542</td>\n",
              "      <td>2.385542</td>\n",
              "    </tr>\n",
              "    <tr>\n",
              "      <th>2</th>\n",
              "      <td>0.544383</td>\n",
              "      <td>0.544383</td>\n",
              "      <td>0.544383</td>\n",
              "      <td>0.544383</td>\n",
              "      <td>0.544383</td>\n",
              "      <td>0.544383</td>\n",
              "      <td>0.544383</td>\n",
              "      <td>0.544383</td>\n",
              "      <td>0.544383</td>\n",
              "      <td>0.544383</td>\n",
              "      <td>0.544383</td>\n",
              "      <td>0.544383</td>\n",
              "      <td>0.544383</td>\n",
              "      <td>0.544383</td>\n",
              "      <td>0.544383</td>\n",
              "      <td>0.544383</td>\n",
              "      <td>0.544383</td>\n",
              "      <td>0.544383</td>\n",
              "      <td>0.544383</td>\n",
              "      <td>0.544383</td>\n",
              "    </tr>\n",
              "    <tr>\n",
              "      <th>3</th>\n",
              "      <td>0.653319</td>\n",
              "      <td>0.653319</td>\n",
              "      <td>0.653319</td>\n",
              "      <td>0.653319</td>\n",
              "      <td>0.653319</td>\n",
              "      <td>0.653319</td>\n",
              "      <td>0.653319</td>\n",
              "      <td>0.653319</td>\n",
              "      <td>0.653319</td>\n",
              "      <td>0.653319</td>\n",
              "      <td>0.653319</td>\n",
              "      <td>0.653319</td>\n",
              "      <td>0.653319</td>\n",
              "      <td>0.653319</td>\n",
              "      <td>0.653319</td>\n",
              "      <td>0.653319</td>\n",
              "      <td>0.653319</td>\n",
              "      <td>0.653319</td>\n",
              "      <td>0.653319</td>\n",
              "      <td>0.653319</td>\n",
              "    </tr>\n",
              "    <tr>\n",
              "      <th>4</th>\n",
              "      <td>-1.211040</td>\n",
              "      <td>-1.211040</td>\n",
              "      <td>-1.211040</td>\n",
              "      <td>-1.211040</td>\n",
              "      <td>-1.211040</td>\n",
              "      <td>-1.211040</td>\n",
              "      <td>-1.211040</td>\n",
              "      <td>-1.211040</td>\n",
              "      <td>-1.211040</td>\n",
              "      <td>-1.211040</td>\n",
              "      <td>-1.211040</td>\n",
              "      <td>-1.211040</td>\n",
              "      <td>-1.211040</td>\n",
              "      <td>-1.211040</td>\n",
              "      <td>-1.211040</td>\n",
              "      <td>-1.211040</td>\n",
              "      <td>-1.211040</td>\n",
              "      <td>-1.211040</td>\n",
              "      <td>-1.211040</td>\n",
              "      <td>-1.211040</td>\n",
              "    </tr>\n",
              "    <tr>\n",
              "      <th>5</th>\n",
              "      <td>-0.627140</td>\n",
              "      <td>-0.627140</td>\n",
              "      <td>-0.627140</td>\n",
              "      <td>-0.627140</td>\n",
              "      <td>-0.627140</td>\n",
              "      <td>-0.627140</td>\n",
              "      <td>-0.627140</td>\n",
              "      <td>-0.627140</td>\n",
              "      <td>-0.627140</td>\n",
              "      <td>-0.627140</td>\n",
              "      <td>-0.627140</td>\n",
              "      <td>-0.627140</td>\n",
              "      <td>-0.627140</td>\n",
              "      <td>-0.627140</td>\n",
              "      <td>-0.627140</td>\n",
              "      <td>-0.627140</td>\n",
              "      <td>-0.627140</td>\n",
              "      <td>-0.627140</td>\n",
              "      <td>-0.627140</td>\n",
              "      <td>-0.627140</td>\n",
              "    </tr>\n",
              "    <tr>\n",
              "      <th>6</th>\n",
              "      <td>-0.290810</td>\n",
              "      <td>-0.290810</td>\n",
              "      <td>-0.290810</td>\n",
              "      <td>-0.290810</td>\n",
              "      <td>-0.290810</td>\n",
              "      <td>-0.290810</td>\n",
              "      <td>-0.290810</td>\n",
              "      <td>-0.290810</td>\n",
              "      <td>-0.290810</td>\n",
              "      <td>-0.290810</td>\n",
              "      <td>-0.290810</td>\n",
              "      <td>-0.290810</td>\n",
              "      <td>-0.290810</td>\n",
              "      <td>-0.290810</td>\n",
              "      <td>-0.290810</td>\n",
              "      <td>-0.290810</td>\n",
              "      <td>-0.290810</td>\n",
              "      <td>-0.290810</td>\n",
              "      <td>-0.290810</td>\n",
              "      <td>-0.290810</td>\n",
              "    </tr>\n",
              "    <tr>\n",
              "      <th>7</th>\n",
              "      <td>-1.090860</td>\n",
              "      <td>-1.090860</td>\n",
              "      <td>-1.090860</td>\n",
              "      <td>-1.090860</td>\n",
              "      <td>-1.090860</td>\n",
              "      <td>-1.090860</td>\n",
              "      <td>-1.090860</td>\n",
              "      <td>-1.090860</td>\n",
              "      <td>-1.090860</td>\n",
              "      <td>-1.090860</td>\n",
              "      <td>-1.090860</td>\n",
              "      <td>-1.090860</td>\n",
              "      <td>-1.090860</td>\n",
              "      <td>-1.090860</td>\n",
              "      <td>-1.090860</td>\n",
              "      <td>-1.090860</td>\n",
              "      <td>-1.090860</td>\n",
              "      <td>-1.090860</td>\n",
              "      <td>-1.090860</td>\n",
              "      <td>-1.090860</td>\n",
              "    </tr>\n",
              "    <tr>\n",
              "      <th>8</th>\n",
              "      <td>-0.987347</td>\n",
              "      <td>-0.987347</td>\n",
              "      <td>-0.987347</td>\n",
              "      <td>-0.987347</td>\n",
              "      <td>-0.987347</td>\n",
              "      <td>-0.987347</td>\n",
              "      <td>-0.987347</td>\n",
              "      <td>-0.987347</td>\n",
              "      <td>-0.987347</td>\n",
              "      <td>-0.987347</td>\n",
              "      <td>-0.987347</td>\n",
              "      <td>-0.987347</td>\n",
              "      <td>-0.987347</td>\n",
              "      <td>-0.987347</td>\n",
              "      <td>-0.987347</td>\n",
              "      <td>-0.987347</td>\n",
              "      <td>-0.987347</td>\n",
              "      <td>-0.987347</td>\n",
              "      <td>-0.987347</td>\n",
              "      <td>-0.987347</td>\n",
              "    </tr>\n",
              "    <tr>\n",
              "      <th>9</th>\n",
              "      <td>0.544142</td>\n",
              "      <td>0.544142</td>\n",
              "      <td>0.544142</td>\n",
              "      <td>0.544142</td>\n",
              "      <td>0.544142</td>\n",
              "      <td>0.544142</td>\n",
              "      <td>0.544142</td>\n",
              "      <td>0.544142</td>\n",
              "      <td>0.544142</td>\n",
              "      <td>0.544142</td>\n",
              "      <td>0.544142</td>\n",
              "      <td>0.544142</td>\n",
              "      <td>0.544142</td>\n",
              "      <td>0.544142</td>\n",
              "      <td>0.544142</td>\n",
              "      <td>0.544142</td>\n",
              "      <td>0.544142</td>\n",
              "      <td>0.544142</td>\n",
              "      <td>0.544142</td>\n",
              "      <td>0.544142</td>\n",
              "    </tr>\n",
              "  </tbody>\n",
              "</table>\n",
              "</div>\n",
              "    <div class=\"colab-df-buttons\">\n",
              "\n",
              "  <div class=\"colab-df-container\">\n",
              "    <button class=\"colab-df-convert\" onclick=\"convertToInteractive('df-6300a2f8-da1d-467a-8c5e-7455fc1d8f84')\"\n",
              "            title=\"Convert this dataframe to an interactive table.\"\n",
              "            style=\"display:none;\">\n",
              "\n",
              "  <svg xmlns=\"http://www.w3.org/2000/svg\" height=\"24px\" viewBox=\"0 -960 960 960\">\n",
              "    <path d=\"M120-120v-720h720v720H120Zm60-500h600v-160H180v160Zm220 220h160v-160H400v160Zm0 220h160v-160H400v160ZM180-400h160v-160H180v160Zm440 0h160v-160H620v160ZM180-180h160v-160H180v160Zm440 0h160v-160H620v160Z\"/>\n",
              "  </svg>\n",
              "    </button>\n",
              "\n",
              "  <style>\n",
              "    .colab-df-container {\n",
              "      display:flex;\n",
              "      gap: 12px;\n",
              "    }\n",
              "\n",
              "    .colab-df-convert {\n",
              "      background-color: #E8F0FE;\n",
              "      border: none;\n",
              "      border-radius: 50%;\n",
              "      cursor: pointer;\n",
              "      display: none;\n",
              "      fill: #1967D2;\n",
              "      height: 32px;\n",
              "      padding: 0 0 0 0;\n",
              "      width: 32px;\n",
              "    }\n",
              "\n",
              "    .colab-df-convert:hover {\n",
              "      background-color: #E2EBFA;\n",
              "      box-shadow: 0px 1px 2px rgba(60, 64, 67, 0.3), 0px 1px 3px 1px rgba(60, 64, 67, 0.15);\n",
              "      fill: #174EA6;\n",
              "    }\n",
              "\n",
              "    .colab-df-buttons div {\n",
              "      margin-bottom: 4px;\n",
              "    }\n",
              "\n",
              "    [theme=dark] .colab-df-convert {\n",
              "      background-color: #3B4455;\n",
              "      fill: #D2E3FC;\n",
              "    }\n",
              "\n",
              "    [theme=dark] .colab-df-convert:hover {\n",
              "      background-color: #434B5C;\n",
              "      box-shadow: 0px 1px 3px 1px rgba(0, 0, 0, 0.15);\n",
              "      filter: drop-shadow(0px 1px 2px rgba(0, 0, 0, 0.3));\n",
              "      fill: #FFFFFF;\n",
              "    }\n",
              "  </style>\n",
              "\n",
              "    <script>\n",
              "      const buttonEl =\n",
              "        document.querySelector('#df-6300a2f8-da1d-467a-8c5e-7455fc1d8f84 button.colab-df-convert');\n",
              "      buttonEl.style.display =\n",
              "        google.colab.kernel.accessAllowed ? 'block' : 'none';\n",
              "\n",
              "      async function convertToInteractive(key) {\n",
              "        const element = document.querySelector('#df-6300a2f8-da1d-467a-8c5e-7455fc1d8f84');\n",
              "        const dataTable =\n",
              "          await google.colab.kernel.invokeFunction('convertToInteractive',\n",
              "                                                    [key], {});\n",
              "        if (!dataTable) return;\n",
              "\n",
              "        const docLinkHtml = 'Like what you see? Visit the ' +\n",
              "          '<a target=\"_blank\" href=https://colab.research.google.com/notebooks/data_table.ipynb>data table notebook</a>'\n",
              "          + ' to learn more about interactive tables.';\n",
              "        element.innerHTML = '';\n",
              "        dataTable['output_type'] = 'display_data';\n",
              "        await google.colab.output.renderOutput(dataTable, element);\n",
              "        const docLink = document.createElement('div');\n",
              "        docLink.innerHTML = docLinkHtml;\n",
              "        element.appendChild(docLink);\n",
              "      }\n",
              "    </script>\n",
              "  </div>\n",
              "\n",
              "\n",
              "<div id=\"df-fbaa3787-4bd4-4f11-9516-b438abd05921\">\n",
              "  <button class=\"colab-df-quickchart\" onclick=\"quickchart('df-fbaa3787-4bd4-4f11-9516-b438abd05921')\"\n",
              "            title=\"Suggest charts\"\n",
              "            style=\"display:none;\">\n",
              "\n",
              "<svg xmlns=\"http://www.w3.org/2000/svg\" height=\"24px\"viewBox=\"0 0 24 24\"\n",
              "     width=\"24px\">\n",
              "    <g>\n",
              "        <path d=\"M19 3H5c-1.1 0-2 .9-2 2v14c0 1.1.9 2 2 2h14c1.1 0 2-.9 2-2V5c0-1.1-.9-2-2-2zM9 17H7v-7h2v7zm4 0h-2V7h2v10zm4 0h-2v-4h2v4z\"/>\n",
              "    </g>\n",
              "</svg>\n",
              "  </button>\n",
              "\n",
              "<style>\n",
              "  .colab-df-quickchart {\n",
              "      --bg-color: #E8F0FE;\n",
              "      --fill-color: #1967D2;\n",
              "      --hover-bg-color: #E2EBFA;\n",
              "      --hover-fill-color: #174EA6;\n",
              "      --disabled-fill-color: #AAA;\n",
              "      --disabled-bg-color: #DDD;\n",
              "  }\n",
              "\n",
              "  [theme=dark] .colab-df-quickchart {\n",
              "      --bg-color: #3B4455;\n",
              "      --fill-color: #D2E3FC;\n",
              "      --hover-bg-color: #434B5C;\n",
              "      --hover-fill-color: #FFFFFF;\n",
              "      --disabled-bg-color: #3B4455;\n",
              "      --disabled-fill-color: #666;\n",
              "  }\n",
              "\n",
              "  .colab-df-quickchart {\n",
              "    background-color: var(--bg-color);\n",
              "    border: none;\n",
              "    border-radius: 50%;\n",
              "    cursor: pointer;\n",
              "    display: none;\n",
              "    fill: var(--fill-color);\n",
              "    height: 32px;\n",
              "    padding: 0;\n",
              "    width: 32px;\n",
              "  }\n",
              "\n",
              "  .colab-df-quickchart:hover {\n",
              "    background-color: var(--hover-bg-color);\n",
              "    box-shadow: 0 1px 2px rgba(60, 64, 67, 0.3), 0 1px 3px 1px rgba(60, 64, 67, 0.15);\n",
              "    fill: var(--button-hover-fill-color);\n",
              "  }\n",
              "\n",
              "  .colab-df-quickchart-complete:disabled,\n",
              "  .colab-df-quickchart-complete:disabled:hover {\n",
              "    background-color: var(--disabled-bg-color);\n",
              "    fill: var(--disabled-fill-color);\n",
              "    box-shadow: none;\n",
              "  }\n",
              "\n",
              "  .colab-df-spinner {\n",
              "    border: 2px solid var(--fill-color);\n",
              "    border-color: transparent;\n",
              "    border-bottom-color: var(--fill-color);\n",
              "    animation:\n",
              "      spin 1s steps(1) infinite;\n",
              "  }\n",
              "\n",
              "  @keyframes spin {\n",
              "    0% {\n",
              "      border-color: transparent;\n",
              "      border-bottom-color: var(--fill-color);\n",
              "      border-left-color: var(--fill-color);\n",
              "    }\n",
              "    20% {\n",
              "      border-color: transparent;\n",
              "      border-left-color: var(--fill-color);\n",
              "      border-top-color: var(--fill-color);\n",
              "    }\n",
              "    30% {\n",
              "      border-color: transparent;\n",
              "      border-left-color: var(--fill-color);\n",
              "      border-top-color: var(--fill-color);\n",
              "      border-right-color: var(--fill-color);\n",
              "    }\n",
              "    40% {\n",
              "      border-color: transparent;\n",
              "      border-right-color: var(--fill-color);\n",
              "      border-top-color: var(--fill-color);\n",
              "    }\n",
              "    60% {\n",
              "      border-color: transparent;\n",
              "      border-right-color: var(--fill-color);\n",
              "    }\n",
              "    80% {\n",
              "      border-color: transparent;\n",
              "      border-right-color: var(--fill-color);\n",
              "      border-bottom-color: var(--fill-color);\n",
              "    }\n",
              "    90% {\n",
              "      border-color: transparent;\n",
              "      border-bottom-color: var(--fill-color);\n",
              "    }\n",
              "  }\n",
              "</style>\n",
              "\n",
              "  <script>\n",
              "    async function quickchart(key) {\n",
              "      const quickchartButtonEl =\n",
              "        document.querySelector('#' + key + ' button');\n",
              "      quickchartButtonEl.disabled = true;  // To prevent multiple clicks.\n",
              "      quickchartButtonEl.classList.add('colab-df-spinner');\n",
              "      try {\n",
              "        const charts = await google.colab.kernel.invokeFunction(\n",
              "            'suggestCharts', [key], {});\n",
              "      } catch (error) {\n",
              "        console.error('Error during call to suggestCharts:', error);\n",
              "      }\n",
              "      quickchartButtonEl.classList.remove('colab-df-spinner');\n",
              "      quickchartButtonEl.classList.add('colab-df-quickchart-complete');\n",
              "    }\n",
              "    (() => {\n",
              "      let quickchartButtonEl =\n",
              "        document.querySelector('#df-fbaa3787-4bd4-4f11-9516-b438abd05921 button');\n",
              "      quickchartButtonEl.style.display =\n",
              "        google.colab.kernel.accessAllowed ? 'block' : 'none';\n",
              "    })();\n",
              "  </script>\n",
              "</div>\n",
              "\n",
              "    </div>\n",
              "  </div>\n"
            ],
            "application/vnd.google.colaboratory.intrinsic+json": {
              "type": "dataframe",
              "variable_name": "df",
              "summary": "{\n  \"name\": \"df\",\n  \"rows\": 100,\n  \"fields\": [\n    {\n      \"column\": \"X0\",\n      \"properties\": {\n        \"dtype\": \"number\",\n        \"std\": 1.029809924172618,\n        \"min\": -2.468202172513808,\n        \"max\": 2.385541702574504,\n        \"num_unique_values\": 100,\n        \"samples\": [\n          0.2436155796934384,\n          -0.6002796319543171,\n          0.9073491752515971\n        ],\n        \"semantic_type\": \"\",\n        \"description\": \"\"\n      }\n    },\n    {\n      \"column\": \"X1\",\n      \"properties\": {\n        \"dtype\": \"number\",\n        \"std\": 1.029809924172618,\n        \"min\": -2.468202172513808,\n        \"max\": 2.385541702574504,\n        \"num_unique_values\": 100,\n        \"samples\": [\n          0.2436155796934384,\n          -0.6002796319543171,\n          0.9073491752515971\n        ],\n        \"semantic_type\": \"\",\n        \"description\": \"\"\n      }\n    },\n    {\n      \"column\": \"X2\",\n      \"properties\": {\n        \"dtype\": \"number\",\n        \"std\": 1.029809924172618,\n        \"min\": -2.468202172513808,\n        \"max\": 2.385541702574504,\n        \"num_unique_values\": 100,\n        \"samples\": [\n          0.2436155796934384,\n          -0.6002796319543171,\n          0.9073491752515971\n        ],\n        \"semantic_type\": \"\",\n        \"description\": \"\"\n      }\n    },\n    {\n      \"column\": \"X3\",\n      \"properties\": {\n        \"dtype\": \"number\",\n        \"std\": 1.029809924172618,\n        \"min\": -2.468202172513808,\n        \"max\": 2.385541702574504,\n        \"num_unique_values\": 100,\n        \"samples\": [\n          0.2436155796934384,\n          -0.6002796319543171,\n          0.9073491752515971\n        ],\n        \"semantic_type\": \"\",\n        \"description\": \"\"\n      }\n    },\n    {\n      \"column\": \"X4\",\n      \"properties\": {\n        \"dtype\": \"number\",\n        \"std\": 1.029809924172618,\n        \"min\": -2.468202172513808,\n        \"max\": 2.385541702574504,\n        \"num_unique_values\": 100,\n        \"samples\": [\n          0.2436155796934384,\n          -0.6002796319543171,\n          0.9073491752515971\n        ],\n        \"semantic_type\": \"\",\n        \"description\": \"\"\n      }\n    },\n    {\n      \"column\": \"X5\",\n      \"properties\": {\n        \"dtype\": \"number\",\n        \"std\": 1.029809924172618,\n        \"min\": -2.468202172513808,\n        \"max\": 2.385541702574504,\n        \"num_unique_values\": 100,\n        \"samples\": [\n          0.2436155796934384,\n          -0.6002796319543171,\n          0.9073491752515971\n        ],\n        \"semantic_type\": \"\",\n        \"description\": \"\"\n      }\n    },\n    {\n      \"column\": \"X6\",\n      \"properties\": {\n        \"dtype\": \"number\",\n        \"std\": 1.029809924172618,\n        \"min\": -2.468202172513808,\n        \"max\": 2.385541702574504,\n        \"num_unique_values\": 100,\n        \"samples\": [\n          0.2436155796934384,\n          -0.6002796319543171,\n          0.9073491752515971\n        ],\n        \"semantic_type\": \"\",\n        \"description\": \"\"\n      }\n    },\n    {\n      \"column\": \"X7\",\n      \"properties\": {\n        \"dtype\": \"number\",\n        \"std\": 1.029809924172618,\n        \"min\": -2.468202172513808,\n        \"max\": 2.385541702574504,\n        \"num_unique_values\": 100,\n        \"samples\": [\n          0.2436155796934384,\n          -0.6002796319543171,\n          0.9073491752515971\n        ],\n        \"semantic_type\": \"\",\n        \"description\": \"\"\n      }\n    },\n    {\n      \"column\": \"X8\",\n      \"properties\": {\n        \"dtype\": \"number\",\n        \"std\": 1.029809924172618,\n        \"min\": -2.468202172513808,\n        \"max\": 2.385541702574504,\n        \"num_unique_values\": 100,\n        \"samples\": [\n          0.2436155796934384,\n          -0.6002796319543171,\n          0.9073491752515971\n        ],\n        \"semantic_type\": \"\",\n        \"description\": \"\"\n      }\n    },\n    {\n      \"column\": \"X9\",\n      \"properties\": {\n        \"dtype\": \"number\",\n        \"std\": 1.029809924172618,\n        \"min\": -2.468202172513808,\n        \"max\": 2.385541702574504,\n        \"num_unique_values\": 100,\n        \"samples\": [\n          0.2436155796934384,\n          -0.6002796319543171,\n          0.9073491752515971\n        ],\n        \"semantic_type\": \"\",\n        \"description\": \"\"\n      }\n    },\n    {\n      \"column\": \"X10\",\n      \"properties\": {\n        \"dtype\": \"number\",\n        \"std\": 1.029809924172618,\n        \"min\": -2.468202172513808,\n        \"max\": 2.385541702574504,\n        \"num_unique_values\": 100,\n        \"samples\": [\n          0.2436155796934384,\n          -0.6002796319543171,\n          0.9073491752515971\n        ],\n        \"semantic_type\": \"\",\n        \"description\": \"\"\n      }\n    },\n    {\n      \"column\": \"X11\",\n      \"properties\": {\n        \"dtype\": \"number\",\n        \"std\": 1.029809924172618,\n        \"min\": -2.468202172513808,\n        \"max\": 2.385541702574504,\n        \"num_unique_values\": 100,\n        \"samples\": [\n          0.2436155796934384,\n          -0.6002796319543171,\n          0.9073491752515971\n        ],\n        \"semantic_type\": \"\",\n        \"description\": \"\"\n      }\n    },\n    {\n      \"column\": \"X12\",\n      \"properties\": {\n        \"dtype\": \"number\",\n        \"std\": 1.029809924172618,\n        \"min\": -2.468202172513808,\n        \"max\": 2.385541702574504,\n        \"num_unique_values\": 100,\n        \"samples\": [\n          0.2436155796934384,\n          -0.6002796319543171,\n          0.9073491752515971\n        ],\n        \"semantic_type\": \"\",\n        \"description\": \"\"\n      }\n    },\n    {\n      \"column\": \"X13\",\n      \"properties\": {\n        \"dtype\": \"number\",\n        \"std\": 1.029809924172618,\n        \"min\": -2.468202172513808,\n        \"max\": 2.385541702574504,\n        \"num_unique_values\": 100,\n        \"samples\": [\n          0.2436155796934384,\n          -0.6002796319543171,\n          0.9073491752515971\n        ],\n        \"semantic_type\": \"\",\n        \"description\": \"\"\n      }\n    },\n    {\n      \"column\": \"X14\",\n      \"properties\": {\n        \"dtype\": \"number\",\n        \"std\": 1.029809924172618,\n        \"min\": -2.468202172513808,\n        \"max\": 2.385541702574504,\n        \"num_unique_values\": 100,\n        \"samples\": [\n          0.2436155796934384,\n          -0.6002796319543171,\n          0.9073491752515971\n        ],\n        \"semantic_type\": \"\",\n        \"description\": \"\"\n      }\n    },\n    {\n      \"column\": \"X15\",\n      \"properties\": {\n        \"dtype\": \"number\",\n        \"std\": 1.029809924172618,\n        \"min\": -2.468202172513808,\n        \"max\": 2.385541702574504,\n        \"num_unique_values\": 100,\n        \"samples\": [\n          0.2436155796934384,\n          -0.6002796319543171,\n          0.9073491752515971\n        ],\n        \"semantic_type\": \"\",\n        \"description\": \"\"\n      }\n    },\n    {\n      \"column\": \"X16\",\n      \"properties\": {\n        \"dtype\": \"number\",\n        \"std\": 1.029809924172618,\n        \"min\": -2.468202172513808,\n        \"max\": 2.385541702574504,\n        \"num_unique_values\": 100,\n        \"samples\": [\n          0.2436155796934384,\n          -0.6002796319543171,\n          0.9073491752515971\n        ],\n        \"semantic_type\": \"\",\n        \"description\": \"\"\n      }\n    },\n    {\n      \"column\": \"X17\",\n      \"properties\": {\n        \"dtype\": \"number\",\n        \"std\": 1.029809924172618,\n        \"min\": -2.468202172513808,\n        \"max\": 2.385541702574504,\n        \"num_unique_values\": 100,\n        \"samples\": [\n          0.2436155796934384,\n          -0.6002796319543171,\n          0.9073491752515971\n        ],\n        \"semantic_type\": \"\",\n        \"description\": \"\"\n      }\n    },\n    {\n      \"column\": \"X18\",\n      \"properties\": {\n        \"dtype\": \"number\",\n        \"std\": 1.029809924172618,\n        \"min\": -2.468202172513808,\n        \"max\": 2.385541702574504,\n        \"num_unique_values\": 100,\n        \"samples\": [\n          0.2436155796934384,\n          -0.6002796319543171,\n          0.9073491752515971\n        ],\n        \"semantic_type\": \"\",\n        \"description\": \"\"\n      }\n    },\n    {\n      \"column\": \"X19\",\n      \"properties\": {\n        \"dtype\": \"number\",\n        \"std\": 1.029809924172618,\n        \"min\": -2.468202172513808,\n        \"max\": 2.385541702574504,\n        \"num_unique_values\": 100,\n        \"samples\": [\n          0.2436155796934384,\n          -0.6002796319543171,\n          0.9073491752515971\n        ],\n        \"semantic_type\": \"\",\n        \"description\": \"\"\n      }\n    }\n  ]\n}"
            }
          },
          "metadata": {},
          "execution_count": 6
        }
      ]
    },
    {
      "cell_type": "code",
      "source": [
        "cutoff = 0.05\n",
        "significant_pairs = []\n",
        "\n",
        "for i in range(20):\n",
        "    for j in range(i+1, 20):\n",
        "        Xi = df.iloc[:, i]\n",
        "        Xj = df.iloc[:, j]\n",
        "\n",
        "        results = stats.spearmanr(Xi, Xj)\n",
        "\n",
        "        pvalue = results[1]\n",
        "\n",
        "        if pvalue < cutoff:\n",
        "            significant_pairs.append((i, j))"
      ],
      "metadata": {
        "id": "OzPxgVnmj9QR"
      },
      "execution_count": 17,
      "outputs": []
    },
    {
      "cell_type": "code",
      "source": [
        "N * (N - 1) / 2 * cutoff"
      ],
      "metadata": {
        "colab": {
          "base_uri": "https://localhost:8080/"
        },
        "id": "BHmOUJ8NkUHi",
        "outputId": "9d66e478-5647-46ce-d7aa-6c530d53e516"
      },
      "execution_count": 18,
      "outputs": [
        {
          "output_type": "execute_result",
          "data": {
            "text/plain": [
              "9.5"
            ]
          },
          "metadata": {},
          "execution_count": 18
        }
      ]
    },
    {
      "cell_type": "code",
      "source": [
        "len(significant_pairs)"
      ],
      "metadata": {
        "colab": {
          "base_uri": "https://localhost:8080/"
        },
        "id": "8r3V9lqUkbq5",
        "outputId": "fbf2c71e-ec6d-488f-a19e-a44d3eb3603a"
      },
      "execution_count": 19,
      "outputs": [
        {
          "output_type": "execute_result",
          "data": {
            "text/plain": [
              "190"
            ]
          },
          "metadata": {},
          "execution_count": 19
        }
      ]
    },
    {
      "cell_type": "code",
      "source": [
        "def do_experiment(N, T, cutoff=0.05):\n",
        "    df = pd.DataFrame()\n",
        "\n",
        "    for i in range(N):\n",
        "        X = pd.Series(np.random.normal(0, 1, T))\n",
        "        name = f'X{i}'\n",
        "        df[name] = X\n",
        "\n",
        "    significant_pairs = []\n",
        "\n",
        "    for i in range(N):\n",
        "        for j in range(i + 1, N):\n",
        "            xi = df.iloc[:, i]\n",
        "            xj = df.iloc[:, j]\n",
        "            results = stats.spearmanr(xi, xj)\n",
        "\n",
        "            pvalue = results[1]\n",
        "            if pvalue < cutoff:\n",
        "                significant_pairs.append((i, j))\n",
        "    return significant_pairs"
      ],
      "metadata": {
        "id": "N-cM4ErvlD8i"
      },
      "execution_count": 21,
      "outputs": []
    },
    {
      "cell_type": "code",
      "source": [
        "n_experiments = 100\n",
        "results = np.zeros((n_experiments, ))\n",
        "\n",
        "for i in range(n_experiments):\n",
        "    result = do_experiment(20, 100)\n",
        "    n = len(result)\n",
        "    results[i] = n\n",
        "\n",
        "print(f'Mean of results: {np.mean(results)}')"
      ],
      "metadata": {
        "colab": {
          "base_uri": "https://localhost:8080/"
        },
        "id": "wpiaLRcsluUh",
        "outputId": "f996074a-6b3f-425d-e599-8951fca58795"
      },
      "execution_count": 22,
      "outputs": [
        {
          "output_type": "stream",
          "name": "stdout",
          "text": [
            "Mean of results: 9.66\n"
          ]
        }
      ]
    },
    {
      "cell_type": "markdown",
      "source": [
        "### Visualizing what is going on"
      ],
      "metadata": {
        "id": "CmQqfRqvmLV6"
      }
    },
    {
      "cell_type": "code",
      "source": [
        "def get_pvalues_from_experiment(N, T):\n",
        "    df = pd.DataFrame()\n",
        "\n",
        "    for i in range(N):\n",
        "        X = pd.Series(np.random.normal(0, 1, T))\n",
        "        name = f'X{i}'\n",
        "        df[name] = X\n",
        "\n",
        "    pvalues = []\n",
        "    for i in range(N):\n",
        "        for j in range(i + 1, N):\n",
        "            xi = df.iloc[:, i]\n",
        "            xj = df.iloc[:, j]\n",
        "            results = stats.spearmanr(xi, xj)\n",
        "            pvalues.append(results[1])\n",
        "\n",
        "    return pvalues"
      ],
      "metadata": {
        "id": "jH6yY8ScmECx"
      },
      "execution_count": 24,
      "outputs": []
    },
    {
      "cell_type": "code",
      "source": [
        "pvalues = get_pvalues_from_experiment(10, 100)\n",
        "fig, ax = plt.subplots(figsize=(8, 6))\n",
        "hplot = sns.histplot(pvalues, bins=25, kde=True, ax=ax)\n",
        "ax.set_xlabel('P-Value')\n",
        "ax.set_ylabel('Frequency')\n",
        "ax.set_xlim([0, 1])\n",
        "ax.set_ylim([0, 5])\n",
        "plt.show()"
      ],
      "metadata": {
        "colab": {
          "base_uri": "https://localhost:8080/",
          "height": 547
        },
        "id": "lHluKzSsmk8N",
        "outputId": "9f4b6e0a-e3bc-48c9-a654-6f0abdbc40d5"
      },
      "execution_count": 27,
      "outputs": [
        {
          "output_type": "display_data",
          "data": {
            "text/plain": [
              "<Figure size 800x600 with 1 Axes>"
            ],
            "image/png": "[encoded data removed]"
          },
          "metadata": {}
        }
      ]
    },
    {
      "cell_type": "code",
      "source": [
        "pvalues = get_pvalues_from_experiment(50, 100)\n",
        "fig, ax = plt.subplots(figsize=(8, 6))\n",
        "hplot = sns.histplot(pvalues, bins=25, kde=True, ax=ax)\n",
        "ax.set_xlabel('P-Value')\n",
        "ax.set_ylabel('Frequency')\n",
        "ax.set_xlim([0, 1])\n",
        "ax.set_ylim([0, 100])\n",
        "plt.show()"
      ],
      "metadata": {
        "colab": {
          "base_uri": "https://localhost:8080/",
          "height": 547
        },
        "id": "l4gHZ2Q5m9_x",
        "outputId": "531af1fa-2aa4-4a93-be68-913fd304b035"
      },
      "execution_count": 31,
      "outputs": [
        {
          "output_type": "display_data",
          "data": {
            "text/plain": [
              "<Figure size 800x600 with 1 Axes>"
            ],
            "image/png": "[encoded data removed]"
          },
          "metadata": {}
        }
      ]
    },
    {
      "cell_type": "code",
      "source": [
        "fig, ax = plt.subplots(figsize=(8, 6))\n",
        "hplot = sns.histplot(pvalues, bins=25, ax=ax)\n",
        "ax.axvline(x=0.01, ymax=100, color='r', linestyle='--', label='0.01 Cutoff')\n",
        "ax.axvline(x=0.05, ymax=100, color='r', linestyle='-', label='0.05 Cutoff')\n",
        "ax.set_xlabel('Observed P-Value')\n",
        "ax.set_ylabel('Frequency')\n",
        "ax.set_xlim([0, 1])\n",
        "ax.set_ylim([0, 70])\n",
        "ax.legend()\n",
        "plt.show()"
      ],
      "metadata": {
        "colab": {
          "base_uri": "https://localhost:8080/",
          "height": 547
        },
        "id": "hIXm-xRapCFf",
        "outputId": "ef766d7b-28ff-4a53-eddc-cc87c95ea202"
      },
      "execution_count": 43,
      "outputs": [
        {
          "output_type": "display_data",
          "data": {
            "text/plain": [
              "<Figure size 800x600 with 1 Axes>"
            ],
            "image/png": "[encoded data removed]"
          },
          "metadata": {}
        }
      ]
    },
    {
      "cell_type": "code",
      "source": [
        "n_experiments = 100\n",
        "results = np.zeros((n_experiments))\n",
        "\n",
        "for i in range(n_experiments):\n",
        "    result = do_experiment(20, 100, cutoff=0.01)\n",
        "    n = len(result)\n",
        "    results[i] = n\n",
        "\n",
        "np.mean(results)"
      ],
      "metadata": {
        "colab": {
          "base_uri": "https://localhost:8080/"
        },
        "id": "WVJF1ffKqrph",
        "outputId": "b45f8ca7-b3e7-4c35-bd7f-3249a5f3e789"
      },
      "execution_count": 44,
      "outputs": [
        {
          "output_type": "execute_result",
          "data": {
            "text/plain": [
              "2.05"
            ]
          },
          "metadata": {},
          "execution_count": 44
        }
      ]
    },
    {
      "cell_type": "code",
      "source": [
        "(N * (N - 1) / 2) * 0.01"
      ],
      "metadata": {
        "colab": {
          "base_uri": "https://localhost:8080/"
        },
        "id": "sqWhNeLQrIvt",
        "outputId": "23e9540c-197c-4afa-8f70-23a11e926321"
      },
      "execution_count": 45,
      "outputs": [
        {
          "output_type": "execute_result",
          "data": {
            "text/plain": [
              "1.9000000000000001"
            ]
          },
          "metadata": {},
          "execution_count": 45
        }
      ]
    },
    {
      "cell_type": "markdown",
      "source": [
        "### Example: Bon Ferroni Correction"
      ],
      "metadata": {
        "id": "tzuFhtBirrvx"
      }
    },
    {
      "cell_type": "code",
      "source": [
        "n_experiments = 100\n",
        "results = np.zeros((n_experiments))\n",
        "N = 20\n",
        "T = n_experiments\n",
        "desired_level = 0.05\n",
        "num_tests = N * (N - 1) / 2\n",
        "new_cutoff = desired_level / num_tests\n",
        "\n",
        "for i in range(n_experiments):\n",
        "    result = do_experiment(20, 100, cutoff=new_cutoff)\n",
        "    n = len(result)\n",
        "    results[i] = n\n",
        "\n",
        "np.mean(results)"
      ],
      "metadata": {
        "colab": {
          "base_uri": "https://localhost:8080/"
        },
        "id": "3xtZVqzZrSab",
        "outputId": "e7b49c35-d439-4352-9483-9e2241007662"
      },
      "execution_count": 46,
      "outputs": [
        {
          "output_type": "execute_result",
          "data": {
            "text/plain": [
              "0.03"
            ]
          },
          "metadata": {},
          "execution_count": 46
        }
      ]
    },
    {
      "cell_type": "code",
      "source": [],
      "metadata": {
        "id": "EEGk-IjGseGv"
      },
      "execution_count": null,
      "outputs": []
    }
  ]
}