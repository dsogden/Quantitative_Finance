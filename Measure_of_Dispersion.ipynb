{
  "nbformat": 4,
  "nbformat_minor": 0,
  "metadata": {
    "colab": {
      "provenance": [],
      "authorship_tag": "ABX9TyN0Hn4Ip9OoSn6FpGa470UC",
      "include_colab_link": true
    },
    "kernelspec": {
      "name": "python3",
      "display_name": "Python 3"
    },
    "language_info": {
      "name": "python"
    }
  },
  "cells": [
    {
      "cell_type": "markdown",
      "metadata": {
        "id": "view-in-github",
        "colab_type": "text"
      },
      "source": [
        "<a href=\"https://colab.research.google.com/github/dsogden/Quantitative_Finance/blob/main/Measure_of_Dispersion.ipynb\" target=\"_parent\"><img src=\"https://colab.research.google.com/assets/colab-badge.svg\" alt=\"Open In Colab\"/></a>"
      ]
    },
    {
      "cell_type": "code",
      "execution_count": 1,
      "metadata": {
        "id": "bMyLvrs7Zib2"
      },
      "outputs": [],
      "source": [
        "import numpy as np\n",
        "\n",
        "np.random.seed(121)"
      ]
    },
    {
      "cell_type": "code",
      "source": [
        "X = np.random.randint(100, size=20)\n",
        "\n",
        "X = np.sort(X)\n",
        "print(f'X: {X}')\n",
        "mu = np.mean(X)\n",
        "print(f'Mean of X: {mu}')"
      ],
      "metadata": {
        "colab": {
          "base_uri": "https://localhost:8080/"
        },
        "id": "HvRTdNJqZvo-",
        "outputId": "92c3ecd3-cda9-479b-a097-cba522a54278"
      },
      "execution_count": 2,
      "outputs": [
        {
          "output_type": "stream",
          "name": "stdout",
          "text": [
            "X: [ 3  8 34 39 46 52 52 52 54 57 60 65 66 75 83 85 88 94 95 96]\n",
            "Mean of X: 60.2\n"
          ]
        }
      ]
    },
    {
      "cell_type": "markdown",
      "source": [
        "### Range"
      ],
      "metadata": {
        "id": "pOKlwRAVaCBM"
      }
    },
    {
      "cell_type": "code",
      "source": [
        "print(f'Range of X: {np.ptp(X)}')"
      ],
      "metadata": {
        "colab": {
          "base_uri": "https://localhost:8080/"
        },
        "id": "POLkRmgGZ8h-",
        "outputId": "4591f73a-e33e-4350-fe79-c22f84510470"
      },
      "execution_count": 3,
      "outputs": [
        {
          "output_type": "stream",
          "name": "stdout",
          "text": [
            "Range of X: 93\n"
          ]
        }
      ]
    },
    {
      "cell_type": "markdown",
      "source": [
        "### Mean Absolute Deviation\n",
        "\n"
      ],
      "metadata": {
        "id": "eO9bkUM5aUdx"
      }
    },
    {
      "cell_type": "code",
      "source": [
        "abs_dispersion = [np.abs(x - mu) for x in X]\n",
        "MAD = np.sum(abs_dispersion) / len(abs_dispersion)\n",
        "print(f'Mean Absolute Dispersion: {MAD:0.2f}')"
      ],
      "metadata": {
        "colab": {
          "base_uri": "https://localhost:8080/"
        },
        "id": "s9DU_plTaS_s",
        "outputId": "af809de8-1e6d-41e9-f049-fa6a02bfa222"
      },
      "execution_count": 5,
      "outputs": [
        {
          "output_type": "stream",
          "name": "stdout",
          "text": [
            "Mean Absolute Dispersion: 20.52\n"
          ]
        }
      ]
    },
    {
      "cell_type": "markdown",
      "source": [
        "### Variance and Standard Deviation"
      ],
      "metadata": {
        "id": "bPsKzy9ubHRP"
      }
    },
    {
      "cell_type": "code",
      "source": [
        "print(f'Variance of X: {np.var(X)}')\n",
        "print(f'Standard Deviation of X: {np.std(X):0.2f}')"
      ],
      "metadata": {
        "colab": {
          "base_uri": "https://localhost:8080/"
        },
        "id": "CcACR2hdan-x",
        "outputId": "0c22cccb-abdc-4068-d40e-4c003176f2e1"
      },
      "execution_count": 7,
      "outputs": [
        {
          "output_type": "stream",
          "name": "stdout",
          "text": [
            "Variance of X: 670.16\n",
            "Standard Deviation of X: 25.89\n"
          ]
        }
      ]
    },
    {
      "cell_type": "code",
      "source": [
        "k = 1.25\n",
        "dist = k * np.std(X)\n",
        "l = [x for x in X if np.abs(x - mu) <= dist]\n",
        "print(f'Observations within {k} stds of mean {l}')\n",
        "print(f'Confirming that {float(len(l) / len(X))} > {1 - 1 / k ** 2}')"
      ],
      "metadata": {
        "colab": {
          "base_uri": "https://localhost:8080/"
        },
        "id": "fRm402jzbQzi",
        "outputId": "226c6788-08ed-4867-a1ed-7fc6bbffd65a"
      },
      "execution_count": 8,
      "outputs": [
        {
          "output_type": "stream",
          "name": "stdout",
          "text": [
            "Observations within 1.25 stds of mean [34, 39, 46, 52, 52, 52, 54, 57, 60, 65, 66, 75, 83, 85, 88]\n",
            "Confirming that 0.75 > 0.36\n"
          ]
        }
      ]
    },
    {
      "cell_type": "markdown",
      "source": [
        "### Semivariance and Semideviation"
      ],
      "metadata": {
        "id": "szlypdCmcWu7"
      }
    },
    {
      "cell_type": "code",
      "source": [
        "lows = [x for x in X if x <= mu]\n",
        "semivar = np.sum((lows - mu) ** 2 / len(lows))\n",
        "print(f'Semivariance of X {semivar:0.4f}')\n",
        "print(f'Semideviation of X: {(semivar ** 0.5):0.4f}')"
      ],
      "metadata": {
        "colab": {
          "base_uri": "https://localhost:8080/"
        },
        "id": "i7uvOQNQcD3G",
        "outputId": "0d31a479-a3b9-42e4-b9a7-44af69569340"
      },
      "execution_count": 10,
      "outputs": [
        {
          "output_type": "stream",
          "name": "stdout",
          "text": [
            "Semivariance of X 689.5127\n",
            "Semideviation of X: 26.2586\n"
          ]
        }
      ]
    },
    {
      "cell_type": "code",
      "source": [
        "B = 19\n",
        "lows_B = [x for x in X if x <= B]\n",
        "semivar_B = sum(map(lambda x: (x - B)**2,lows_B))/len(lows_B)\n",
        "print(f'Target semivariance of X: {semivar_B:0.4f}')\n",
        "print(f'Target semideviation of X: {(semivar ** 0.5):0.4f}')"
      ],
      "metadata": {
        "colab": {
          "base_uri": "https://localhost:8080/"
        },
        "id": "qTekwkBDcmRH",
        "outputId": "52794a03-3aa3-4d64-ff5a-b5ab7f1469ab"
      },
      "execution_count": 14,
      "outputs": [
        {
          "output_type": "stream",
          "name": "stdout",
          "text": [
            "Target semivariance of X: 188.5000\n",
            "Target semideviation of X: 26.2586\n"
          ]
        }
      ]
    },
    {
      "cell_type": "code",
      "source": [],
      "metadata": {
        "id": "GZSz_2gVdTfp"
      },
      "execution_count": null,
      "outputs": []
    }
  ]
}